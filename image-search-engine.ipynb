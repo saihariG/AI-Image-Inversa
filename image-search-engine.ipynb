{
 "cells": [
  {
   "cell_type": "code",
   "execution_count": 1,
   "id": "a6bded76",
   "metadata": {},
   "outputs": [
    {
     "name": "stdout",
     "output_type": "stream",
     "text": [
      "WARNING:tensorflow:From F:\\anaconda3\\envs\\tf\\lib\\site-packages\\tensorflow\\python\\compat\\v2_compat.py:96: disable_resource_variables (from tensorflow.python.ops.variable_scope) is deprecated and will be removed in a future version.\n",
      "Instructions for updating:\n",
      "non-resource variables are not supported in the long term\n"
     ]
    }
   ],
   "source": [
    "import numpy as np\n",
    "import os\n",
    "import cv2\n",
    "import matplotlib.pyplot as plt\n",
    "import pandas as pd\n",
    "import pickle \n",
    "import tensorflow as tf\n",
    "\n",
    "\n",
    "import tensorflow.compat.v1 as tf1\n",
    "\n",
    "\n",
    "from tensorflow.python.keras.layers import  Input, Embedding, Dot, Reshape, Dense\n",
    "from tensorflow.python.keras.models import Model\n",
    "\n",
    "#from tensorflow.python.framework import ops\n",
    "\n",
    "\n",
    "\n",
    "from tqdm import tqdm\n",
    "\n",
    "#from tqdm.notebook import tqdm\n",
    "\n",
    "from scipy.spatial.distance import hamming , cosine, euclidean\n",
    "\n",
    "\n",
    "\n",
    "tf1.disable_v2_behavior()\n",
    "\n",
    "%matplotlib inline "
   ]
  },
  {
   "cell_type": "markdown",
   "id": "cf1ef599",
   "metadata": {},
   "source": [
    "# step 1 Dataset utils & preprocessing"
   ]
  },
  {
   "cell_type": "code",
   "execution_count": 2,
   "id": "90eb23b6",
   "metadata": {},
   "outputs": [],
   "source": [
    "def image_loader(image_path , image_size):\n",
    "    '''\n",
    "    Load an image from a disk \n",
    "    \n",
    "    :param image_path : String , path to image\n",
    "    :param image_size : tuple , size of an output image Example : image_size = (32,32)\n",
    "    \n",
    "    '''\n",
    "    image = cv2.imread(image_path)\n",
    "    image = cv2.cvtColor(image , cv2.COLOR_BGR2RGB)\n",
    "    \n",
    "    image  = cv2.resize(image , image_size , cv2.INTER_CUBIC ) \n",
    "    \n",
    "    return image"
   ]
  },
  {
   "cell_type": "code",
   "execution_count": 3,
   "id": "528c4a66",
   "metadata": {},
   "outputs": [],
   "source": [
    "def dataset_preprocessing(dataset_path , labels_file_path , image_size , image_paths_pickle):\n",
    "    '''\n",
    "    Loads images & labels from dataset folder\n",
    "    \n",
    "    :param dataset_path : String , path to train/test dataset folder\n",
    "    :param labels_file_path : String , path to the .txt file where classes names are written\n",
    "    :param image_size : tuple , single image size\n",
    "    :param image_paths_pickle : String , name of a pickle file where all image paths will be saved \n",
    "    \n",
    "    '''\n",
    "    with open(labels_file_path , \"r\") as f:\n",
    "        classes = f.read().split(\"\\n\")[:-1]\n",
    "        \n",
    "    images = []\n",
    "    labels = []\n",
    "    image_paths = []\n",
    "    \n",
    "    for image_name in os.listdir(dataset_path):\n",
    "        try:\n",
    "            image_path = os.path.join(dataset_path , image_name)\n",
    "            images.append(image_loader(image_path , image_size))\n",
    "            image_paths.append(image_path)\n",
    "            \n",
    "            for idx in range(len(classes)):\n",
    "                if classes[idx] in image_name: #EG : 0_frog.png\n",
    "                    labels.append(idx)\n",
    "            \n",
    "        except:\n",
    "            pass\n",
    "    \n",
    "    with open(image_paths_pickle + \".pickle\" , \"wb\") as f:        \n",
    "        pickle.dump(image_paths , f)\n",
    "    \n",
    "    assert len(images) == len(labels)\n",
    "    return np.array(images) , np.array(labels)    "
   ]
  },
  {
   "cell_type": "code",
   "execution_count": 4,
   "id": "02451980",
   "metadata": {},
   "outputs": [],
   "source": [
    "images , labels = dataset_preprocessing(\"dataset\\\\train\",\n",
    "                                        \"dataset\\\\labels.txt\",\n",
    "                                        (32,32),\n",
    "                                        \"training_images_pickle\")"
   ]
  },
  {
   "cell_type": "code",
   "execution_count": 5,
   "id": "d043b842",
   "metadata": {},
   "outputs": [
    {
     "data": {
      "text/plain": [
       "(50000, 32, 32, 3)"
      ]
     },
     "execution_count": 5,
     "metadata": {},
     "output_type": "execute_result"
    }
   ],
   "source": [
    "images.shape"
   ]
  },
  {
   "cell_type": "markdown",
   "id": "bacdbb1d",
   "metadata": {},
   "source": [
    "# step 2 : Utils Function"
   ]
  },
  {
   "cell_type": "code",
   "execution_count": null,
   "id": "da57eac8",
   "metadata": {},
   "outputs": [],
   "source": [
    "def cosine_distance(training_set_vectors , query_vector , top_n = 50):\n",
    "    '''\n",
    "    Calculates cosine distance b/w query image (vector) and all training set images (vectors)\n",
    "    \n",
    "    :param training_set_vectors: numpy Matrix , vectors for all images in the training set\n",
    "    :param query_vector : numpy Vector , query image (new image) vector\n",
    "    :param top_n : integer , number of closest images to return \n",
    "    \n",
    "    '''\n",
    "    distances = []\n",
    "    \n",
    "    for i in range(len(training_set_vectors)): # for cifar-10 Dataset -> 50k images\n",
    "        distances.append(cosine(training_set_vectors[i] , query_vector[0]))\n",
    "    \n",
    "    return np.argsort(distances)[:top_n]   "
   ]
  },
  {
   "cell_type": "code",
   "execution_count": 7,
   "id": "1ab13635",
   "metadata": {},
   "outputs": [],
   "source": [
    "def hamming_distance(training_set_vectors , query_vector , top_n = 50):\n",
    "    '''\n",
    "     Calculates hamming distances b/w query image (vector) and all training set images (vectors)\n",
    "    \n",
    "    :param training_set_vectors: numpy Matrix , vectors for all images in the training set\n",
    "    :param query_vector : numpy Vector , query image (new image) vector\n",
    "    :param top_n : integer , number of closest images to return \n",
    "    \n",
    "    '''\n",
    "    distances = []\n",
    "    \n",
    "    for i in range(len(training_set_vectors)): # for cifar-10 Dataset -> 50k images\n",
    "        distances.append(hamming(training_set_vectors[i] , query_vector[0]))\n",
    "    \n",
    "    return np.argsort(distances)[:top_n]  "
   ]
  },
  {
   "cell_type": "code",
   "execution_count": 8,
   "id": "e5da3063",
   "metadata": {},
   "outputs": [],
   "source": [
    "def sparse_accuracy(true_labels , predicted_labels):\n",
    "    '''\n",
    "    Calculates accuracy of a model based on softmax outputs\n",
    "    \n",
    "    :param true_labels : numpy array . real labels of each sample. eg: [1,2,1,0,0]\n",
    "    :param predicted_labels : numpy matrix , softmax probabilities. Eg. [[02 , 0.1, 0.7] , [0.9 , 0.05 , 0.05]]\n",
    "    '''\n",
    "    \n",
    "    assert len(true_labels) == len(predicted_labels)\n",
    "    \n",
    "    correct  = 0\n",
    "    \n",
    "    for i in range(len(true_labels)):\n",
    "        \n",
    "        if np.argmax(predicted_labels[i]) == true_labels[i]:\n",
    "            \n",
    "            correct += 1\n",
    "            \n",
    "    return correct / len(true_labels)"
   ]
  },
  {
   "cell_type": "markdown",
   "id": "3c52d4df",
   "metadata": {},
   "source": [
    "# step 3 Model Utils"
   ]
  },
  {
   "cell_type": "code",
   "execution_count": 9,
   "id": "5fe43367",
   "metadata": {},
   "outputs": [],
   "source": [
    "def model_inputs(image_size):\n",
    "    '''\n",
    "    Defines CNN inputs (placeholders)\n",
    "    \n",
    "    :param image_size : tuple , (height , width) of an  image\n",
    "    '''\n",
    "    # -> [Batch_size , image_size[0] , image_size[1] , 3]\n",
    "    inputs  = tf1.placeholder(dtype = tf.float32 , shape=[None , image_size[0] , image_size[1] , 3] , name='images')\n",
    "    \n",
    "    targets = tf1.placeholder(dtype = tf.int32 , shape = [None] , name='targets')\n",
    "    dropout_rate = tf1.placeholder(dtype = tf.float32 , name='dropout_rate')\n",
    "    \n",
    "    \n",
    "    return inputs , targets , dropout_rate"
   ]
  },
  {
   "cell_type": "code",
   "execution_count": 10,
   "id": "1008b595",
   "metadata": {},
   "outputs": [],
   "source": [
    "def conv_block(inputs , \n",
    "               number_of_filters,\n",
    "               kernel_size ,\n",
    "               strides = (1,1),\n",
    "               padding = 'SAME',\n",
    "               activation = tf.nn.relu ,\n",
    "               max_pool = True ,\n",
    "               batch_norm = True ):\n",
    "    \n",
    "    \n",
    "    '''\n",
    "    Defines Convolutional block layer\n",
    "    \n",
    "    :param inputs: data from a previous layer\n",
    "    :param number_0f_filters : integer , number of conv filters\n",
    "    :param kernel_size : tuple , size of conv layer kernel\n",
    "    :param padding : string , type of padding technique : SAME or VALID\n",
    "    :param activation : tf.object , activation function used on layer \n",
    "    :param max_pool : boolean , if true the conv block will use max_pool\n",
    "    :param batch_norm : boolean , if true the conv block will use batch normalization\n",
    "      \n",
    "    '''\n",
    "    \n",
    "    conv_features = layer  = tf1.layers.conv2d( inputs = inputs , \n",
    "                                               filters = number_of_filters, \n",
    "                                               kernel_size = kernel_size ,\n",
    "                                               strides = strides ,\n",
    "                                               padding  = padding ,\n",
    "                                               activation = activation \n",
    "                                             )\n",
    "    \n",
    "    \n",
    "    if max_pool:\n",
    "        \n",
    "        layer = tf1.layers.max_pooling2d(layer , pool_size = (2,2) , strides=(2, 2) , padding = 'SAME' )\n",
    "        \n",
    "    if batch_norm:\n",
    "        layer = tf1.layers.batch_normalization(layer)\n",
    "        \n",
    "    return layer , conv_features"
   ]
  },
  {
   "cell_type": "code",
   "execution_count": 11,
   "id": "f02b1e50",
   "metadata": {},
   "outputs": [],
   "source": [
    "def dense_block(inputs,\n",
    "                units,\n",
    "                activation = tf.nn.relu ,\n",
    "                dropout_rate = None ,\n",
    "                batch_norm = True):\n",
    "    '''\n",
    "    Defines dense block layer\n",
    "    \n",
    "    :param inputs : data from a previous layer\n",
    "    :param units : Integer , number of neurons/units for a dense layer\n",
    "    :param activation : tf.object , activation function used on layer \n",
    "    :param dropout_rate : dropout rate used in this dense block\n",
    "    :param batch_norm : boolean , if true the conv block will use batch normalization\n",
    "    \n",
    "    '''\n",
    "    dense_features = layer = tf1.layers.dense(inputs = inputs ,\n",
    "                                             units = units ,\n",
    "                                             activation = activation )\n",
    "    \n",
    "    if dropout_rate is not None:\n",
    "        layer = tf1.layers.dropout(layer , rate = dropout_rate )\n",
    "        \n",
    "    if batch_norm :\n",
    "        layer = tf1.layers.batch_normalization(layer)\n",
    "        \n",
    "    return layer , dense_features"
   ]
  },
  {
   "cell_type": "code",
   "execution_count": 12,
   "id": "2d2e770a",
   "metadata": {},
   "outputs": [],
   "source": [
    "def opt_loss(logits , targets , learning_rate):\n",
    "    '''\n",
    "    Define model's optimizer and loss function\n",
    "    \n",
    "    :param logits: pre-activated model outputs\n",
    "    :param targets : true labels for each input sample\n",
    "    :param learning_rate : learning_rate\n",
    "    '''\n",
    "    \n",
    "    loss = tf.reduce_mean(tf.nn.sparse_softmax_cross_entropy_with_logits(labels = targets , logits = logits))\n",
    "    \n",
    "    optimizer = tf1.train.AdamOptimizer(learning_rate).minimize(loss)\n",
    "    \n",
    "    #tf.optimizers.Adam\n",
    "    #tf.train.AdamOptimizer\n",
    "    \n",
    "    return loss , optimizer"
   ]
  },
  {
   "cell_type": "code",
   "execution_count": 13,
   "id": "bff14589",
   "metadata": {},
   "outputs": [],
   "source": [
    "class ImageSearchModel(object):\n",
    "    \n",
    "    def __init__(self ,\n",
    "                 learning_rate ,\n",
    "                 image_size ,\n",
    "                 number_of_classes = 10 ): \n",
    "        '''\n",
    "        Define CNN Model \n",
    "        \n",
    "        :param learning_rate : learning_rate\n",
    "        :param image_size : tuple , (height , width) of an image\n",
    "        :param number_of_classes : integer , number of classes in dataset\n",
    "        '''\n",
    "        \n",
    "        #tf.reset_default_graph()\n",
    "        \n",
    "        tf.compat.v1.reset_default_graph()\n",
    "        #ops.reset_default_graph()\n",
    "        \n",
    "        self.inputs , self.targets , self.dropout_rate = model_inputs(image_size)\n",
    "        \n",
    "        normalized_images = tf1.layers.batch_normalization(self.inputs)\n",
    "        \n",
    "        #conv block 1\n",
    "        \n",
    "        conv_block_1 , self.conv_1_features = conv_block(inputs = normalized_images,\n",
    "                                                         number_of_filters = 64 , \n",
    "                                                         kernel_size = (3,3) , \n",
    "                                                         strides=(1,1) , \n",
    "                                                         padding = 'SAME' ,\n",
    "                                                         activation = tf.nn.relu ,\n",
    "                                                         max_pool = True ,\n",
    "                                                         batch_norm = True) \n",
    "        \n",
    "        \n",
    "        #conv block 2\n",
    "        \n",
    "        conv_block_2 , self.conv_2_features = conv_block(inputs = conv_block_1 ,\n",
    "                                                         number_of_filters = 128 , \n",
    "                                                         kernel_size = (3,3) , \n",
    "                                                         strides=(1,1) , \n",
    "                                                         padding = 'SAME' ,\n",
    "                                                         activation = tf.nn.relu ,\n",
    "                                                         max_pool = True ,\n",
    "                                                         batch_norm = True) \n",
    "        \n",
    "        \n",
    "        #conv block 3\n",
    "        \n",
    "        conv_block_3 , self.conv_3_features = conv_block(inputs = conv_block_2 ,\n",
    "                                                         number_of_filters = 256 , \n",
    "                                                         kernel_size = (5,5) , \n",
    "                                                         strides=(1,1) , \n",
    "                                                         padding = 'SAME' ,\n",
    "                                                         activation = tf.nn.relu ,\n",
    "                                                         max_pool = True ,\n",
    "                                                         batch_norm = True) \n",
    "        \n",
    "        #conv block 4\n",
    "        \n",
    "        conv_block_4 , self.conv_4_features = conv_block(inputs = conv_block_3 ,\n",
    "                                                         number_of_filters = 512 , \n",
    "                                                         kernel_size = (5,5) , \n",
    "                                                         strides=(1,1) , \n",
    "                                                         padding = 'SAME' ,\n",
    "                                                         activation = tf.nn.relu ,\n",
    "                                                         max_pool = True ,\n",
    "                                                         batch_norm = True) \n",
    "        \n",
    "        \n",
    "        \n",
    "        #flattening \n",
    "        flat_layer  = tf1.layers.flatten(conv_block_4)\n",
    "        \n",
    "        \n",
    "        # Dense block 1\n",
    "        \n",
    "        dense_block_1 , dense_1_features = dense_block(inputs = flat_layer ,\n",
    "                                                       units = 128 ,\n",
    "                                                       activation = tf.nn.relu ,\n",
    "                                                       dropout_rate = self.dropout_rate ,\n",
    "                                                       batch_norm = True )\n",
    "        \n",
    "        \n",
    "        \n",
    "        \n",
    "        \n",
    "        # Dense block 2\n",
    "        \n",
    "        dense_block_2 , self.dense_2_features = dense_block(inputs = dense_block_1 ,\n",
    "                                                       units = 256 ,\n",
    "                                                       activation = tf.nn.relu ,\n",
    "                                                       dropout_rate = self.dropout_rate ,\n",
    "                                                       batch_norm = True )\n",
    "        \n",
    "        \n",
    "        \n",
    "        # Dense block 3\n",
    "        \n",
    "        dense_block_3 , self.dense_3_features = dense_block(inputs = dense_block_2 ,\n",
    "                                                       units = 512 ,\n",
    "                                                       activation = tf.nn.relu ,\n",
    "                                                       dropout_rate = self.dropout_rate ,\n",
    "                                                       batch_norm = True )\n",
    "        \n",
    "        \n",
    "        \n",
    "           \n",
    "        # Dense block 4\n",
    "        \n",
    "        dense_block_4 , self.dense_4_features = dense_block(inputs = dense_block_3 ,\n",
    "                                                       units = 1024 ,\n",
    "                                                       activation = tf.nn.relu ,\n",
    "                                                       dropout_rate = self.dropout_rate ,\n",
    "                                                       batch_norm = True )\n",
    "        \n",
    "        \n",
    "        \n",
    "        \n",
    "        logits = tf1.layers.dense(inputs = dense_block_4 , \n",
    "                                 units = number_of_classes , \n",
    "                                 activation = None )\n",
    "        \n",
    "        \n",
    "        self.predictions = tf.nn.softmax(logits)\n",
    "        \n",
    "        self.loss , self.opt = opt_loss(logits = logits  ,\n",
    "                                        targets = self.targets ,\n",
    "                                        learning_rate = learning_rate)"
   ]
  },
  {
   "cell_type": "markdown",
   "id": "5440ba66",
   "metadata": {},
   "source": [
    "#  Step 4 : Training loop - training the model"
   ]
  },
  {
   "cell_type": "code",
   "execution_count": 14,
   "id": "6cf1256f",
   "metadata": {},
   "outputs": [],
   "source": [
    "def train(model ,\n",
    "          epochs ,\n",
    "          drop_rate ,\n",
    "          batch_size ,\n",
    "          data ,\n",
    "          save_dir ,\n",
    "          saver_delta = 0.15):\n",
    "    \n",
    "    '''\n",
    "    The core training function  , use this function to train a mode.\n",
    "    \n",
    "    :param model: CNN model\n",
    "    :param epochs: integer , number of epochs \n",
    "    :param drop_rate: float , dropout_rate\n",
    "    :param batch_size: integer , number of samples to put through the model at once\n",
    "    :param data: tuple , train-test data example(X_train , y_train , X_test , y_test)\n",
    "    :param save_dir: string ,path to a folder where model checkpoints will be saved\n",
    "    :param saver_delta: float , used to prevent overfitted model to be saved\n",
    "    '''\n",
    "    \n",
    "    X_train , y_train  , X_test , y_test = data\n",
    "    \n",
    "    #session \n",
    "    \n",
    "    session = tf.compat.v1.Session()\n",
    "    session.run(tf.compat.v1.global_variables_initializer())\n",
    "    \n",
    "    \n",
    "    #define saver \n",
    "    \n",
    "    saver = tf.compat.v1.train.Saver()\n",
    "    \n",
    "    \n",
    "    best_test_accuracy = 0\n",
    "    \n",
    "    \n",
    "    #Training loop\n",
    "    \n",
    "    for epoch in range(epochs):\n",
    "        \n",
    "        train_accuracy = []\n",
    "        train_loss = []\n",
    "        \n",
    "        for ii in tqdm(range(len(X_train) // batch_size )):\n",
    "            \n",
    "            start_id = ii * batch_size\n",
    "            end_id = start_id + batch_size\n",
    "            \n",
    "            X_batch = X_train[start_id:end_id]\n",
    "            y_batch = y_train[start_id:end_id]\n",
    "            \n",
    "            feed_dict = {model.inputs:X_batch , \n",
    "                         model.targets:y_batch , \n",
    "                         model.dropout_rate:drop_rate}\n",
    "            \n",
    "            \n",
    "            _, t_loss , preds_t = session.run([model.opt , model.loss , model.predictions], feed_dict = feed_dict)\n",
    "            \n",
    "            train_accuracy.append(sparse_accuracy(y_batch , preds_t))\n",
    "            train_loss.append(t_loss)\n",
    "            \n",
    "        print(\"Epoch: {}/{}\".format(epoch, epochs),  \n",
    "              \" | Training accuracy: {}\".format(np.mean(train_accuracy)), \n",
    "              \" | Training loss: {}\".format(np.mean(train_loss)) )\n",
    "        \n",
    "        test_accuracy = []\n",
    "            \n",
    "        for ii in tqdm(range(len(X_test) // batch_size )):\n",
    "            \n",
    "            start_id = ii * batch_size\n",
    "            end_id = start_id + batch_size\n",
    "            \n",
    "            X_batch = X_test[start_id:end_id]\n",
    "            y_batch = y_test[start_id:end_id]\n",
    "            \n",
    "            feed_dict = {model.inputs:X_batch , \n",
    "                         model.dropout_rate:0.0}\n",
    "            \n",
    "            \n",
    "            preds_test = session.run(model.predictions, feed_dict = feed_dict)\n",
    "            \n",
    "            test_accuracy.append(sparse_accuracy(y_batch , preds_test))\n",
    "            \n",
    "        print(\"Test accuracy: {}\".format(np.mean(test_accuracy)))\n",
    "        \n",
    "        #saving the model\n",
    "        \n",
    "        if np.mean(train_accuracy) > np.mean(test_accuracy):\n",
    "            \n",
    "            if np.abs(np.mean(train_accuracy) - np.mean(test_accuracy)) <= saver_delta : \n",
    "                \n",
    "                if np.mean(test_accuracy) >= best_test_accuracy:\n",
    "                    \n",
    "                    best_test_accuracy = np.mean(test_accuracy)\n",
    "                    \n",
    "                    saver.save(session,\"{}/model_epoch_{}.ckpt\".format(save_dir , epoch))\n",
    "                    \n",
    "    session.close()"
   ]
  },
  {
   "cell_type": "markdown",
   "id": "d8538b10",
   "metadata": {},
   "source": [
    "# Setting hyperparameters and training the model"
   ]
  },
  {
   "cell_type": "code",
   "execution_count": 15,
   "id": "05a1a491",
   "metadata": {},
   "outputs": [],
   "source": [
    "epochs = 20\n",
    "batch_size = 128\n",
    "learning_rate = 0.001\n",
    "dropout_rate = 0.6\n",
    "image_size = (32,32)"
   ]
  },
  {
   "cell_type": "code",
   "execution_count": 16,
   "id": "ff6475d5",
   "metadata": {},
   "outputs": [],
   "source": [
    "X_train , y_train = dataset_preprocessing(\"dataset/train/\",\n",
    "                                          \"dataset/labels.txt\",\n",
    "                                          image_size = image_size , \n",
    "                                          image_paths_pickle = \"train_images_pickle\")"
   ]
  },
  {
   "cell_type": "code",
   "execution_count": 17,
   "id": "14627e87",
   "metadata": {},
   "outputs": [
    {
     "data": {
      "text/plain": [
       "(50000, 32, 32, 3)"
      ]
     },
     "execution_count": 17,
     "metadata": {},
     "output_type": "execute_result"
    }
   ],
   "source": [
    "X_train.shape"
   ]
  },
  {
   "cell_type": "code",
   "execution_count": 18,
   "id": "dd3a831d",
   "metadata": {},
   "outputs": [],
   "source": [
    "X_test , y_test = dataset_preprocessing(\"dataset/test/\",\n",
    "                                        \"dataset/labels.txt\",\n",
    "                                        image_size = image_size , \n",
    "                                        image_paths_pickle = \"test_images_pickle\")"
   ]
  },
  {
   "cell_type": "code",
   "execution_count": 19,
   "id": "ad36a001",
   "metadata": {},
   "outputs": [
    {
     "data": {
      "text/plain": [
       "(10000, 32, 32, 3)"
      ]
     },
     "execution_count": 19,
     "metadata": {},
     "output_type": "execute_result"
    }
   ],
   "source": [
    "X_test.shape"
   ]
  },
  {
   "cell_type": "code",
   "execution_count": 20,
   "id": "a2fcc806",
   "metadata": {},
   "outputs": [
    {
     "name": "stdout",
     "output_type": "stream",
     "text": [
      "WARNING:tensorflow:From <ipython-input-13-bbda75c398bf>:22: batch_normalization (from tensorflow.python.keras.legacy_tf_layers.normalization) is deprecated and will be removed in a future version.\n",
      "Instructions for updating:\n",
      "Use keras.layers.BatchNormalization instead.  In particular, `tf.control_dependencies(tf.GraphKeys.UPDATE_OPS)` should not be used (consult the `tf.keras.layers.BatchNormalization` documentation).\n",
      "WARNING:tensorflow:From F:\\anaconda3\\envs\\tf\\lib\\site-packages\\tensorflow\\python\\keras\\legacy_tf_layers\\normalization.py:336: Layer.apply (from tensorflow.python.keras.engine.base_layer_v1) is deprecated and will be removed in a future version.\n",
      "Instructions for updating:\n",
      "Please use `layer.__call__` method instead.\n",
      "WARNING:tensorflow:From <ipython-input-10-04f91fd5a524>:24: conv2d (from tensorflow.python.keras.legacy_tf_layers.convolutional) is deprecated and will be removed in a future version.\n",
      "Instructions for updating:\n",
      "Use `tf.keras.layers.Conv2D` instead.\n",
      "WARNING:tensorflow:From <ipython-input-10-04f91fd5a524>:35: max_pooling2d (from tensorflow.python.keras.legacy_tf_layers.pooling) is deprecated and will be removed in a future version.\n",
      "Instructions for updating:\n",
      "Use keras.layers.MaxPooling2D instead.\n",
      "WARNING:tensorflow:From <ipython-input-13-bbda75c398bf>:73: flatten (from tensorflow.python.keras.legacy_tf_layers.core) is deprecated and will be removed in a future version.\n",
      "Instructions for updating:\n",
      "Use keras.layers.Flatten instead.\n",
      "WARNING:tensorflow:From <ipython-input-11-ee55e2b59c87>:16: dense (from tensorflow.python.keras.legacy_tf_layers.core) is deprecated and will be removed in a future version.\n",
      "Instructions for updating:\n",
      "Use keras.layers.Dense instead.\n",
      "WARNING:tensorflow:From <ipython-input-11-ee55e2b59c87>:21: dropout (from tensorflow.python.keras.legacy_tf_layers.core) is deprecated and will be removed in a future version.\n",
      "Instructions for updating:\n",
      "Use keras.layers.dropout instead.\n"
     ]
    }
   ],
   "source": [
    "model = ImageSearchModel(learning_rate = learning_rate ,\n",
    "                         image_size = image_size )"
   ]
  },
  {
   "cell_type": "code",
   "execution_count": 21,
   "id": "260ebe1f",
   "metadata": {},
   "outputs": [],
   "source": [
    "data = (X_train , y_train , X_test , y_test)"
   ]
  },
  {
   "cell_type": "code",
   "execution_count": 22,
   "id": "7e43016f",
   "metadata": {},
   "outputs": [
    {
     "name": "stderr",
     "output_type": "stream",
     "text": [
      "100%|████████████████████████████████████████████████████████████████████████████████| 390/390 [03:47<00:00,  1.72it/s]\n",
      "  1%|█                                                                                  | 1/78 [00:00<00:08,  8.75it/s]"
     ]
    },
    {
     "name": "stdout",
     "output_type": "stream",
     "text": [
      "Epoch: 0/20  | Training accuracy: 0.35496794871794873  | Training loss: 1.8652923107147217\n"
     ]
    },
    {
     "name": "stderr",
     "output_type": "stream",
     "text": [
      "100%|██████████████████████████████████████████████████████████████████████████████████| 78/78 [00:06<00:00, 12.25it/s]\n",
      "  0%|                                                                                          | 0/390 [00:00<?, ?it/s]"
     ]
    },
    {
     "name": "stdout",
     "output_type": "stream",
     "text": [
      "Test accuracy: 0.5092147435897436\n"
     ]
    },
    {
     "name": "stderr",
     "output_type": "stream",
     "text": [
      "100%|████████████████████████████████████████████████████████████████████████████████| 390/390 [03:48<00:00,  1.71it/s]\n",
      "  3%|██▏                                                                                | 2/78 [00:00<00:06, 12.31it/s]"
     ]
    },
    {
     "name": "stdout",
     "output_type": "stream",
     "text": [
      "Epoch: 1/20  | Training accuracy: 0.5409054487179488  | Training loss: 1.253285527229309\n"
     ]
    },
    {
     "name": "stderr",
     "output_type": "stream",
     "text": [
      "100%|██████████████████████████████████████████████████████████████████████████████████| 78/78 [00:06<00:00, 12.24it/s]\n",
      "  0%|                                                                                          | 0/390 [00:00<?, ?it/s]"
     ]
    },
    {
     "name": "stdout",
     "output_type": "stream",
     "text": [
      "Test accuracy: 0.5716145833333334\n"
     ]
    },
    {
     "name": "stderr",
     "output_type": "stream",
     "text": [
      "100%|████████████████████████████████████████████████████████████████████████████████| 390/390 [03:53<00:00,  1.67it/s]\n",
      "  3%|██▏                                                                                | 2/78 [00:00<00:05, 12.77it/s]"
     ]
    },
    {
     "name": "stdout",
     "output_type": "stream",
     "text": [
      "Epoch: 2/20  | Training accuracy: 0.6188100961538462  | Training loss: 1.0643799304962158\n"
     ]
    },
    {
     "name": "stderr",
     "output_type": "stream",
     "text": [
      "100%|██████████████████████████████████████████████████████████████████████████████████| 78/78 [00:06<00:00, 12.16it/s]\n",
      "  0%|                                                                                          | 0/390 [00:00<?, ?it/s]"
     ]
    },
    {
     "name": "stdout",
     "output_type": "stream",
     "text": [
      "Test accuracy: 0.6276041666666666\n"
     ]
    },
    {
     "name": "stderr",
     "output_type": "stream",
     "text": [
      "100%|████████████████████████████████████████████████████████████████████████████████| 390/390 [03:56<00:00,  1.65it/s]\n",
      "  3%|██▏                                                                                | 2/78 [00:00<00:06, 12.61it/s]"
     ]
    },
    {
     "name": "stdout",
     "output_type": "stream",
     "text": [
      "Epoch: 3/20  | Training accuracy: 0.6673076923076923  | Training loss: 0.9368583559989929\n"
     ]
    },
    {
     "name": "stderr",
     "output_type": "stream",
     "text": [
      "100%|██████████████████████████████████████████████████████████████████████████████████| 78/78 [00:06<00:00, 11.66it/s]\n"
     ]
    },
    {
     "name": "stdout",
     "output_type": "stream",
     "text": [
      "Test accuracy: 0.6634615384615384\n"
     ]
    },
    {
     "name": "stderr",
     "output_type": "stream",
     "text": [
      "100%|████████████████████████████████████████████████████████████████████████████████| 390/390 [03:53<00:00,  1.67it/s]\n",
      "  3%|██▏                                                                                | 2/78 [00:00<00:06, 12.53it/s]"
     ]
    },
    {
     "name": "stdout",
     "output_type": "stream",
     "text": [
      "Epoch: 4/20  | Training accuracy: 0.7030448717948717  | Training loss: 0.8454976677894592\n"
     ]
    },
    {
     "name": "stderr",
     "output_type": "stream",
     "text": [
      "100%|██████████████████████████████████████████████████████████████████████████████████| 78/78 [00:06<00:00, 12.05it/s]\n",
      "  0%|                                                                                          | 0/390 [00:00<?, ?it/s]"
     ]
    },
    {
     "name": "stdout",
     "output_type": "stream",
     "text": [
      "Test accuracy: 0.6584535256410257\n"
     ]
    },
    {
     "name": "stderr",
     "output_type": "stream",
     "text": [
      "100%|████████████████████████████████████████████████████████████████████████████████| 390/390 [03:54<00:00,  1.66it/s]\n",
      "  3%|██▏                                                                                | 2/78 [00:00<00:06, 11.59it/s]"
     ]
    },
    {
     "name": "stdout",
     "output_type": "stream",
     "text": [
      "Epoch: 5/20  | Training accuracy: 0.7380408653846153  | Training loss: 0.7490361332893372\n"
     ]
    },
    {
     "name": "stderr",
     "output_type": "stream",
     "text": [
      "100%|██████████████████████████████████████████████████████████████████████████████████| 78/78 [00:06<00:00, 11.97it/s]\n"
     ]
    },
    {
     "name": "stdout",
     "output_type": "stream",
     "text": [
      "Test accuracy: 0.6703725961538461\n"
     ]
    },
    {
     "name": "stderr",
     "output_type": "stream",
     "text": [
      "100%|████████████████████████████████████████████████████████████████████████████████| 390/390 [03:49<00:00,  1.70it/s]\n",
      "  3%|██▏                                                                                | 2/78 [00:00<00:05, 12.77it/s]"
     ]
    },
    {
     "name": "stdout",
     "output_type": "stream",
     "text": [
      "Epoch: 6/20  | Training accuracy: 0.7635016025641026  | Training loss: 0.6725896000862122\n"
     ]
    },
    {
     "name": "stderr",
     "output_type": "stream",
     "text": [
      "100%|██████████████████████████████████████████████████████████████████████████████████| 78/78 [00:06<00:00, 12.20it/s]\n",
      "  0%|                                                                                          | 0/390 [00:00<?, ?it/s]"
     ]
    },
    {
     "name": "stdout",
     "output_type": "stream",
     "text": [
      "Test accuracy: 0.6645633012820513\n"
     ]
    },
    {
     "name": "stderr",
     "output_type": "stream",
     "text": [
      "100%|████████████████████████████████████████████████████████████████████████████████| 390/390 [03:49<00:00,  1.70it/s]\n",
      "  3%|██▏                                                                                | 2/78 [00:00<00:06, 12.53it/s]"
     ]
    },
    {
     "name": "stdout",
     "output_type": "stream",
     "text": [
      "Epoch: 7/20  | Training accuracy: 0.7869591346153846  | Training loss: 0.6110365390777588\n"
     ]
    },
    {
     "name": "stderr",
     "output_type": "stream",
     "text": [
      "100%|██████████████████████████████████████████████████████████████████████████████████| 78/78 [00:06<00:00, 12.22it/s]\n",
      "  0%|                                                                                          | 0/390 [00:00<?, ?it/s]"
     ]
    },
    {
     "name": "stdout",
     "output_type": "stream",
     "text": [
      "Test accuracy: 0.6493389423076923\n"
     ]
    },
    {
     "name": "stderr",
     "output_type": "stream",
     "text": [
      "100%|████████████████████████████████████████████████████████████████████████████████| 390/390 [03:48<00:00,  1.70it/s]\n",
      "  3%|██▏                                                                                | 2/78 [00:00<00:05, 12.94it/s]"
     ]
    },
    {
     "name": "stdout",
     "output_type": "stream",
     "text": [
      "Epoch: 8/20  | Training accuracy: 0.8042868589743589  | Training loss: 0.5667721629142761\n"
     ]
    },
    {
     "name": "stderr",
     "output_type": "stream",
     "text": [
      "100%|██████████████████████████████████████████████████████████████████████████████████| 78/78 [00:06<00:00, 12.24it/s]\n",
      "  0%|                                                                                          | 0/390 [00:00<?, ?it/s]"
     ]
    },
    {
     "name": "stdout",
     "output_type": "stream",
     "text": [
      "Test accuracy: 0.6489383012820513\n"
     ]
    },
    {
     "name": "stderr",
     "output_type": "stream",
     "text": [
      "100%|████████████████████████████████████████████████████████████████████████████████| 390/390 [03:50<00:00,  1.69it/s]\n",
      "  3%|██▏                                                                                | 2/78 [00:00<00:05, 12.94it/s]"
     ]
    },
    {
     "name": "stdout",
     "output_type": "stream",
     "text": [
      "Epoch: 9/20  | Training accuracy: 0.8265625  | Training loss: 0.5048208236694336\n"
     ]
    },
    {
     "name": "stderr",
     "output_type": "stream",
     "text": [
      "100%|██████████████████████████████████████████████████████████████████████████████████| 78/78 [00:06<00:00, 12.11it/s]\n",
      "  0%|                                                                                          | 0/390 [00:00<?, ?it/s]"
     ]
    },
    {
     "name": "stdout",
     "output_type": "stream",
     "text": [
      "Test accuracy: 0.6415264423076923\n"
     ]
    },
    {
     "name": "stderr",
     "output_type": "stream",
     "text": [
      "100%|████████████████████████████████████████████████████████████████████████████████| 390/390 [03:52<00:00,  1.68it/s]\n",
      "  3%|██▏                                                                                | 2/78 [00:00<00:06, 12.30it/s]"
     ]
    },
    {
     "name": "stdout",
     "output_type": "stream",
     "text": [
      "Epoch: 10/20  | Training accuracy: 0.8482171474358975  | Training loss: 0.44120776653289795\n"
     ]
    },
    {
     "name": "stderr",
     "output_type": "stream",
     "text": [
      "100%|██████████████████████████████████████████████████████████████████████████████████| 78/78 [00:06<00:00, 12.12it/s]\n",
      "  0%|                                                                                          | 0/390 [00:00<?, ?it/s]"
     ]
    },
    {
     "name": "stdout",
     "output_type": "stream",
     "text": [
      "Test accuracy: 0.6431290064102564\n"
     ]
    },
    {
     "name": "stderr",
     "output_type": "stream",
     "text": [
      "100%|████████████████████████████████████████████████████████████████████████████████| 390/390 [03:51<00:00,  1.68it/s]\n",
      "  3%|██▏                                                                                | 2/78 [00:00<00:06, 12.16it/s]"
     ]
    },
    {
     "name": "stdout",
     "output_type": "stream",
     "text": [
      "Epoch: 11/20  | Training accuracy: 0.8637219551282052  | Training loss: 0.40011143684387207\n"
     ]
    },
    {
     "name": "stderr",
     "output_type": "stream",
     "text": [
      "100%|██████████████████████████████████████████████████████████████████████████████████| 78/78 [00:06<00:00, 12.07it/s]\n",
      "  0%|                                                                                          | 0/390 [00:00<?, ?it/s]"
     ]
    },
    {
     "name": "stdout",
     "output_type": "stream",
     "text": [
      "Test accuracy: 0.6338141025641025\n"
     ]
    },
    {
     "name": "stderr",
     "output_type": "stream",
     "text": [
      "100%|████████████████████████████████████████████████████████████████████████████████| 390/390 [03:53<00:00,  1.67it/s]\n",
      "  3%|██▏                                                                                | 2/78 [00:00<00:05, 12.68it/s]"
     ]
    },
    {
     "name": "stdout",
     "output_type": "stream",
     "text": [
      "Epoch: 12/20  | Training accuracy: 0.8842948717948718  | Training loss: 0.33911147713661194\n"
     ]
    },
    {
     "name": "stderr",
     "output_type": "stream",
     "text": [
      "100%|██████████████████████████████████████████████████████████████████████████████████| 78/78 [00:06<00:00, 11.87it/s]\n",
      "  0%|                                                                                          | 0/390 [00:00<?, ?it/s]"
     ]
    },
    {
     "name": "stdout",
     "output_type": "stream",
     "text": [
      "Test accuracy: 0.6573517628205128\n"
     ]
    },
    {
     "name": "stderr",
     "output_type": "stream",
     "text": [
      "100%|████████████████████████████████████████████████████████████████████████████████| 390/390 [03:53<00:00,  1.67it/s]\n",
      "  3%|██▏                                                                                | 2/78 [00:00<00:05, 13.11it/s]"
     ]
    },
    {
     "name": "stdout",
     "output_type": "stream",
     "text": [
      "Epoch: 13/20  | Training accuracy: 0.8985376602564102  | Training loss: 0.3027282655239105\n"
     ]
    },
    {
     "name": "stderr",
     "output_type": "stream",
     "text": [
      "100%|██████████████████████████████████████████████████████████████████████████████████| 78/78 [00:06<00:00, 12.26it/s]\n",
      "  0%|                                                                                          | 0/390 [00:00<?, ?it/s]"
     ]
    },
    {
     "name": "stdout",
     "output_type": "stream",
     "text": [
      "Test accuracy: 0.6372195512820513\n"
     ]
    },
    {
     "name": "stderr",
     "output_type": "stream",
     "text": [
      "100%|████████████████████████████████████████████████████████████████████████████████| 390/390 [03:47<00:00,  1.71it/s]\n",
      "  3%|██▏                                                                                | 2/78 [00:00<00:06, 12.46it/s]"
     ]
    },
    {
     "name": "stdout",
     "output_type": "stream",
     "text": [
      "Epoch: 14/20  | Training accuracy: 0.9064102564102564  | Training loss: 0.28028011322021484\n"
     ]
    },
    {
     "name": "stderr",
     "output_type": "stream",
     "text": [
      "100%|██████████████████████████████████████████████████████████████████████████████████| 78/78 [00:06<00:00, 12.25it/s]\n",
      "  0%|                                                                                          | 0/390 [00:00<?, ?it/s]"
     ]
    },
    {
     "name": "stdout",
     "output_type": "stream",
     "text": [
      "Test accuracy: 0.6546474358974359\n"
     ]
    },
    {
     "name": "stderr",
     "output_type": "stream",
     "text": [
      "100%|████████████████████████████████████████████████████████████████████████████████| 390/390 [03:46<00:00,  1.72it/s]\n",
      "  3%|██▏                                                                                | 2/78 [00:00<00:06, 11.81it/s]"
     ]
    },
    {
     "name": "stdout",
     "output_type": "stream",
     "text": [
      "Epoch: 15/20  | Training accuracy: 0.9173477564102565  | Training loss: 0.24275317788124084\n"
     ]
    },
    {
     "name": "stderr",
     "output_type": "stream",
     "text": [
      "100%|██████████████████████████████████████████████████████████████████████████████████| 78/78 [00:06<00:00, 12.19it/s]\n",
      "  0%|                                                                                          | 0/390 [00:00<?, ?it/s]"
     ]
    },
    {
     "name": "stdout",
     "output_type": "stream",
     "text": [
      "Test accuracy: 0.6630608974358975\n"
     ]
    },
    {
     "name": "stderr",
     "output_type": "stream",
     "text": [
      "100%|████████████████████████████████████████████████████████████████████████████████| 390/390 [03:46<00:00,  1.72it/s]\n",
      "  3%|██▏                                                                                | 2/78 [00:00<00:05, 13.28it/s]"
     ]
    },
    {
     "name": "stdout",
     "output_type": "stream",
     "text": [
      "Epoch: 16/20  | Training accuracy: 0.9263020833333333  | Training loss: 0.21780316531658173\n"
     ]
    },
    {
     "name": "stderr",
     "output_type": "stream",
     "text": [
      "100%|██████████████████████████████████████████████████████████████████████████████████| 78/78 [00:06<00:00, 12.29it/s]\n",
      "  0%|                                                                                          | 0/390 [00:00<?, ?it/s]"
     ]
    },
    {
     "name": "stdout",
     "output_type": "stream",
     "text": [
      "Test accuracy: 0.6829927884615384\n"
     ]
    },
    {
     "name": "stderr",
     "output_type": "stream",
     "text": [
      "100%|████████████████████████████████████████████████████████████████████████████████| 390/390 [03:46<00:00,  1.72it/s]\n",
      "  3%|██▏                                                                                | 2/78 [00:00<00:05, 13.03it/s]"
     ]
    },
    {
     "name": "stdout",
     "output_type": "stream",
     "text": [
      "Epoch: 17/20  | Training accuracy: 0.936698717948718  | Training loss: 0.18835923075675964\n"
     ]
    },
    {
     "name": "stderr",
     "output_type": "stream",
     "text": [
      "100%|██████████████████████████████████████████████████████████████████████████████████| 78/78 [00:06<00:00, 12.26it/s]\n",
      "  0%|                                                                                          | 0/390 [00:00<?, ?it/s]"
     ]
    },
    {
     "name": "stdout",
     "output_type": "stream",
     "text": [
      "Test accuracy: 0.6727764423076923\n"
     ]
    },
    {
     "name": "stderr",
     "output_type": "stream",
     "text": [
      "100%|████████████████████████████████████████████████████████████████████████████████| 390/390 [03:50<00:00,  1.70it/s]\n",
      "  3%|██▏                                                                                | 2/78 [00:00<00:05, 13.08it/s]"
     ]
    },
    {
     "name": "stdout",
     "output_type": "stream",
     "text": [
      "Epoch: 18/20  | Training accuracy: 0.9435496794871795  | Training loss: 0.17055046558380127\n"
     ]
    },
    {
     "name": "stderr",
     "output_type": "stream",
     "text": [
      "100%|██████████████████████████████████████████████████████████████████████████████████| 78/78 [00:06<00:00, 12.09it/s]\n",
      "  0%|                                                                                          | 0/390 [00:00<?, ?it/s]"
     ]
    },
    {
     "name": "stdout",
     "output_type": "stream",
     "text": [
      "Test accuracy: 0.6683693910256411\n"
     ]
    },
    {
     "name": "stderr",
     "output_type": "stream",
     "text": [
      "100%|████████████████████████████████████████████████████████████████████████████████| 390/390 [03:51<00:00,  1.68it/s]\n",
      "  3%|██▏                                                                                | 2/78 [00:00<00:05, 12.77it/s]"
     ]
    },
    {
     "name": "stdout",
     "output_type": "stream",
     "text": [
      "Epoch: 19/20  | Training accuracy: 0.9489383012820513  | Training loss: 0.15734867751598358\n"
     ]
    },
    {
     "name": "stderr",
     "output_type": "stream",
     "text": [
      "100%|██████████████████████████████████████████████████████████████████████████████████| 78/78 [00:06<00:00, 12.16it/s]\n"
     ]
    },
    {
     "name": "stdout",
     "output_type": "stream",
     "text": [
      "Test accuracy: 0.6681690705128205\n"
     ]
    }
   ],
   "source": [
    "train(model , epochs , dropout_rate , batch_size , data , \"saver\")"
   ]
  },
  {
   "cell_type": "markdown",
   "id": "afca246e",
   "metadata": {},
   "source": [
    "# Step 6 Create training set vectors | Define Inference function"
   ]
  },
  {
   "cell_type": "code",
   "execution_count": 23,
   "id": "a93a9711",
   "metadata": {},
   "outputs": [],
   "source": [
    "def create_training_set_vectors(model,\n",
    "                                X_train,\n",
    "                                y_train,\n",
    "                                batch_size,\n",
    "                                checkpoint_path,\n",
    "                                image_size,\n",
    "                                distance = 'hamming'):\n",
    "     \n",
    "    '''\n",
    "    Creates training set vectors & saves them in a pickle file\n",
    "    \n",
    "    :param model: CNN Model\n",
    "    :param X_train: numpy array , loaded training set images\n",
    "    :param y_train: numpy array , loaded training set labels\n",
    "    :param batch_size: integer , number of samples to put through the model at once\n",
    "    :param checkpoint_path: string , path to the model checkpoint \n",
    "    :param image_size: tuple , single image (height , width)\n",
    "    :param distance: string , type of distance to be used ,\n",
    "            this parameter is used to choose a way how to prepare & save training set vectors\n",
    "    \n",
    "    '''\n",
    "    \n",
    "    session = tf.compat.v1.Session()\n",
    "    session.run(tf.compat.v1.global_variables_initializer())\n",
    "    \n",
    "    saver = tf.compat.v1.train.Saver()\n",
    "    saver.restore(session , checkpoint_path)\n",
    "    \n",
    "    dense_2_features = []\n",
    "    dense_4_features = []\n",
    "    \n",
    "    for ii in tqdm(range(len(X_train) // batch_size)):\n",
    "        \n",
    "        start_id = ii * batch_size\n",
    "        end_id = start_id + batch_size\n",
    "        \n",
    "        X_batch = X_train[start_id:end_id]\n",
    "        \n",
    "        feed_dict = {model.inputs:X_batch , model.dropout_rate:0.0}\n",
    "        \n",
    "        dense_2 , dense_4 = session.run([model.dense_2_features, model.dense_4_features],\n",
    "                                        feed_dict = feed_dict)\n",
    "        \n",
    "        \n",
    "        \n",
    "        dense_2_features.append(dense_2)\n",
    "        dense_4_features.append(dense_4)\n",
    "    \n",
    "    dense_2_features = np.vstack(dense_2_features)\n",
    "    dense_4_features = np.vstack(dense_4_features)\n",
    "    \n",
    "    \n",
    "    if distance == 'hamming':\n",
    "        dense_2_features = np.where(dense_2_features < 0.5, 0, 1)\n",
    "        dense_4_features = np.where(dense_4_features < 0.5, 0, 1)\n",
    "        \n",
    "        training_vectors = np.hstack((dense_2_features , dense_4_features))\n",
    "        \n",
    "        with open(\"hamming_train_vectors.pickle\",\"wb\") as f:\n",
    "            \n",
    "            pickle.dump(training_vectors , f)\n",
    "    \n",
    "    elif distance == \"cosine\":\n",
    "        \n",
    "        \n",
    "        training_vectors = np.hstack((dense_2_features , dense_4_features))\n",
    "        \n",
    "        with open(\"cosine_train_vectors.pickle\",\"wb\") as f:\n",
    "            \n",
    "            pickle.dump(training_vectors , f)"
   ]
  },
  {
   "cell_type": "code",
   "execution_count": 24,
   "id": "e609fcfc",
   "metadata": {},
   "outputs": [],
   "source": [
    "def create_training_set_vectors_with_colors(model,\n",
    "                                            X_train,\n",
    "                                            y_train,\n",
    "                                            batch_size,\n",
    "                                            checkpoint_path,\n",
    "                                            image_size,\n",
    "                                            distance='hamming'):\n",
    "    \n",
    "    '''\n",
    "    Creates training set vectors and saves them in a pickle file.\n",
    "    \n",
    "    :param model: CNN model\n",
    "    :param X_train: numpy array, loaded training set images\n",
    "    :param y_train: numpy array,loaded training set labels\n",
    "    :param batch_size: integer, number of samples to put trhough the model at once\n",
    "    :param checkpoint_path: string, path to the model checkpoint\n",
    "    :param image_size: tuple, single image (height, width)\n",
    "    :param distance: string, type of distance to be used,\n",
    "                             this parameter is used to choose a way how to prepare and save training set vectors\n",
    "    '''\n",
    "            \n",
    "    #Define session\n",
    "    session = tf.compat.v1.Session()\n",
    "    session.run(tf.compat.v1.global_variables_initializer())\n",
    "    \n",
    "    #restore session\n",
    "    saver = tf.compat.v1.train.Saver()\n",
    "    saver.restore(session, checkpoint_path)\n",
    "    \n",
    "    dense_2_features = []\n",
    "    dense_4_features = []\n",
    "    \n",
    "    ##########################################################################\n",
    "    ### Calculate color feature vectors for each image in the training set ###\n",
    "    color_features = []\n",
    "    for img in X_train:\n",
    "            channels = cv2.split(img)\n",
    "            features = []\n",
    "            for chan in channels:\n",
    "               hist = cv2.calcHist([chan], [0], None, [256], [0, 256])\n",
    "               features.append(hist)\n",
    "            \n",
    "            color_features.append(np.vstack(features).squeeze())\n",
    "    ##########################################################################\n",
    "    \n",
    "    #iterate through training set\n",
    "    for ii in tqdm(range(len(X_train) // batch_size)):\n",
    "             start_id = ii*batch_size\n",
    "             end_id = start_id + batch_size\n",
    " \n",
    "             X_batch = X_train[start_id:end_id]\n",
    " \n",
    "             feed_dict = {model.inputs:X_batch,\n",
    "                        model.dropout_rate:0.0}\n",
    "        \n",
    "             dense_2, dense_4 = session.run([model.dense_2_features, model.dense_4_features], feed_dict=feed_dict)\n",
    "        \n",
    "             dense_2_features.append(dense_2)\n",
    "             dense_4_features.append(dense_4)\n",
    "        \n",
    "    dense_2_features = np.vstack(dense_2_features)\n",
    "    dense_4_features = np.vstack(dense_4_features)\n",
    "    #hamming distance - vectors processing\n",
    "    if distance == 'hamming':\n",
    "             dense_2_features = np.where(dense_2_features < 0.5, 0, 1) #binarize vectors\n",
    "             dense_4_features = np.where(dense_4_features < 0.5, 0, 1)\n",
    "        \n",
    "             training_vectors = np.hstack((dense_2_features, dense_4_features))\n",
    "             with open('hamming_train_vectors.pickle', 'wb') as f:\n",
    "                 pickle.dump(training_vectors, f)\n",
    "            \n",
    "    #cosine distance - vectors processing\n",
    "    elif distance == 'cosine':\n",
    "             training_vectors = np.hstack((dense_2_features, dense_4_features))\n",
    "             training_vectors = np.hstack((training_vectors, color_features[:len(training_vectors)]))\n",
    "             with open('cosine_train_vectors.pickle', 'wb') as f:\n",
    "                pickle.dump(training_vectors, f)\n",
    "            \n",
    "    #########################################################################\n",
    "    ### Save training set color feature vectors to a separate pickle file ###\n",
    "    with open('color_vectors.pickle', 'wb') as f:\n",
    "              pickle.dump(color_features[:len(training_vectors)], f)\n",
    "    #########################################################################"
   ]
  },
  {
   "cell_type": "code",
   "execution_count": 25,
   "id": "3b59ca60",
   "metadata": {},
   "outputs": [],
   "source": [
    "model = ImageSearchModel(learning_rate , image_size)"
   ]
  },
  {
   "cell_type": "code",
   "execution_count": 26,
   "id": "de14c179",
   "metadata": {},
   "outputs": [
    {
     "name": "stdout",
     "output_type": "stream",
     "text": [
      "INFO:tensorflow:Restoring parameters from saver/model_epoch_5.ckpt\n"
     ]
    },
    {
     "name": "stderr",
     "output_type": "stream",
     "text": [
      "100%|████████████████████████████████████████████████████████████████████████████████| 390/390 [00:28<00:00, 13.79it/s]\n"
     ]
    }
   ],
   "source": [
    "create_training_set_vectors_with_colors(model ,\n",
    "                            X_train , y_train , \n",
    "                            batch_size , \n",
    "                            \"saver/model_epoch_5.ckpt\", \n",
    "                            image_size)"
   ]
  },
  {
   "cell_type": "code",
   "execution_count": 27,
   "id": "fc7e5075",
   "metadata": {},
   "outputs": [],
   "source": [
    "def compare_color(color_vectors,\n",
    "                  uploaded_image_colors,\n",
    "                  ids):\n",
    "    '''\n",
    "    Comparing color vectors of closest images from the training set with a color vector of a uploaded image (query image).\n",
    "    \n",
    "    :param color_vectors: color features vectors of closest training set images to the uploaded image\n",
    "    :param uploaded_image_colors: color vector of the uploaded image\n",
    "    :param ids: indices of training images being closest to the uploaded image (output from a distance function)\n",
    "    '''\n",
    "    color_distances = []\n",
    "    \n",
    "    for i in range(len(color_vectors)):\n",
    "        color_distances.append(euclidean(color_vectors[i], uploaded_image_colors))\n",
    "        \n",
    "    #The 15 is just an random number that I have choosen, you can return as many as you need/want\n",
    "    return ids[np.argsort(color_distances)[:15]]"
   ]
  },
  {
   "cell_type": "code",
   "execution_count": 28,
   "id": "d521a285",
   "metadata": {},
   "outputs": [],
   "source": [
    "def simple_inference(model,\n",
    "                     session,\n",
    "                     train_set_vectors,\n",
    "                     uploaded_image_path,\n",
    "                     image_size,\n",
    "                     distance = 'hamming'):\n",
    "    \n",
    "    \n",
    "    '''\n",
    "    Doing simple inference for single uploaded image\n",
    "    \n",
    "    :param model: CNN model\n",
    "    :param session: tf.Session, restored session\n",
    "    :param train_set_vectors: loaded training set vectors\n",
    "    :param uploaded_image_path: string, path to the uploaded image\n",
    "    :param image_size: tuple, single image (height, width)\n",
    "    :param distance: string, type of distance to be used, \n",
    "                             this parameter is used to choose a way how to prepare vectors\n",
    "    \n",
    "    '''\n",
    "    \n",
    "    image = image_loader(uploaded_image_path, image_size)\n",
    "    \n",
    "    feed_dict = {model.inputs:[image], model.dropout_rate:0.0}\n",
    "    \n",
    "    dense_2_features , dense_4_features = session.run([model.dense_2_features, model.dense_4_features], feed_dict = feed_dict)\n",
    "    \n",
    "    closest_ids = None\n",
    "    \n",
    "    if distance == \"hamming\":\n",
    "        \n",
    "        dense_2_features = np.where(dense_2_features < 0.5 , 0 ,1)\n",
    "        dense_4_features = np.where(dense_4_features < 0.5 , 0 ,1)                          \n",
    "        \n",
    "        uploaded_image_vector = np.hstack((dense_2_features, dense_4_features))\n",
    "        \n",
    "        closest_ids = hamming_distance(train_set_vectors, uploaded_image_vector)\n",
    "        \n",
    "    elif distance == \"cosine\":\n",
    "        \n",
    "        uploaded_image_vector = np.hstack((dense_2_features, dense_4_features))\n",
    "        \n",
    "        closest_ids = cosine_distance(train_set_vectors, uploaded_image_vector)\n",
    "        \n",
    "    return closest_ids"
   ]
  },
  {
   "cell_type": "code",
   "execution_count": 29,
   "id": "96756729",
   "metadata": {},
   "outputs": [],
   "source": [
    "def simple_inference_with_color_filters(model,\n",
    "                                         session,\n",
    "                                         train_set_vectors,\n",
    "                                         uploaded_image_path,\n",
    "                                         color_vectors,\n",
    "                                         image_size,\n",
    "                                         distance='hamming'):\n",
    "    \n",
    "    '''\n",
    "    Doing simple inference for single uploaded image.\n",
    "    \n",
    "    :param model: CNN model\n",
    "    :param session: tf.Session, restored session\n",
    "    :param train_set_vectors: loaded training set vectors\n",
    "    :param uploaded_image_path: string, path to the uploaded image\n",
    "    :param color_vectors: loaded training set color features vectors\n",
    "    :param image_size: tuple, single image (height, width)\n",
    "    :param distance: string, type of distance to be used,\n",
    "                             this parameter is used to choose a way how to prepare vectors\n",
    "    '''\n",
    "    \n",
    "    image = image_loader(uploaded_image_path, image_size)\n",
    "    \n",
    "    ####################################################\n",
    "    ## Calculating color histogram of the query image ##\n",
    "    channels = cv2.split(image)\n",
    "    features = []\n",
    "    for chan in channels:\n",
    "             hist = cv2.calcHist([chan], [0], None, [256], [0, 256])\n",
    "             features.append(hist)\n",
    " \n",
    "    color_features = np.vstack(features).T\n",
    "    ####################################################\n",
    "    \n",
    "    feed_dict = {model.inputs:[image], model.dropout_rate:0.0}\n",
    "    \n",
    "    dense_2_features, dense_4_features = session.run([model.dense_2_features, model.dense_4_features], feed_dict=feed_dict)\n",
    "    \n",
    "    closest_ids = None\n",
    "    if distance == 'hamming':\n",
    "            dense_2_features = np.where(dense_2_features < 0.5, 0, 1)\n",
    "            dense_4_features = np.where(dense_4_features < 0.5, 0, 1)\n",
    "        \n",
    "            uploaded_image_vector = np.hstack((dense_2_features, dense_4_features))\n",
    "        \n",
    "            closest_ids = hamming_distance(train_set_vectors, uploaded_image_vector)\n",
    "        \n",
    "              #Comparing color features between query image and closest images selected by the model\n",
    "            #################################################\n",
    "            ## Compare color vectors ########################\n",
    "            closest_ids = compare_color(np.array(color_vectors)[closest_ids], color_features, closest_ids)\n",
    "        \n",
    "    elif distance == 'cosine':\n",
    "             uploaded_image_vector = np.hstack((dense_2_features, dense_4_features))\n",
    "        \n",
    "             closest_ids = cosine_distance(train_set_vectors, uploaded_image_vector)\n",
    "        \n",
    "             #Comparing color features between query image and closest images selected by the model\n",
    "           #################################################\n",
    "           ## Compare color vectors ########################\n",
    "             closest_ids = compare_color(np.array(color_vectors)[closest_ids], color_features, closest_ids)\n",
    "        \n",
    "    return closest_ids"
   ]
  },
  {
   "cell_type": "markdown",
   "id": "a56c3115",
   "metadata": {},
   "source": [
    "# Pipeline test\n",
    "## Define session & model"
   ]
  },
  {
   "cell_type": "code",
   "execution_count": 30,
   "id": "de90a318",
   "metadata": {},
   "outputs": [],
   "source": [
    "model  = ImageSearchModel(learning_rate = learning_rate , image_size = image_size)\n",
    "\n",
    "session = tf.compat.v1.Session()\n",
    "session.run(tf.compat.v1.global_variables_initializer())"
   ]
  },
  {
   "cell_type": "markdown",
   "id": "0d87ed15",
   "metadata": {},
   "source": [
    "# Restore session"
   ]
  },
  {
   "cell_type": "code",
   "execution_count": 32,
   "id": "1e349347",
   "metadata": {},
   "outputs": [
    {
     "name": "stdout",
     "output_type": "stream",
     "text": [
      "INFO:tensorflow:Restoring parameters from saver/model_epoch_5.ckpt\n"
     ]
    }
   ],
   "source": [
    "saver = tf.compat.v1.train.Saver()\n",
    "saver.restore(session , \"saver/model_epoch_5.ckpt\") "
   ]
  },
  {
   "cell_type": "markdown",
   "id": "b2d96314",
   "metadata": {},
   "source": [
    "# Load Training set image paths"
   ]
  },
  {
   "cell_type": "code",
   "execution_count": 33,
   "id": "0ade24d3",
   "metadata": {},
   "outputs": [],
   "source": [
    "with open('train_images_pickle.pickle','rb') as f:\n",
    "    train_image_paths = pickle.load(f)"
   ]
  },
  {
   "cell_type": "code",
   "execution_count": 34,
   "id": "9f142d60",
   "metadata": {},
   "outputs": [
    {
     "data": {
      "text/plain": [
       "['dataset/train/0_frog.png',\n",
       " 'dataset/train/10000_automobile.png',\n",
       " 'dataset/train/10001_frog.png',\n",
       " 'dataset/train/10002_frog.png',\n",
       " 'dataset/train/10003_ship.png',\n",
       " 'dataset/train/10004_ship.png',\n",
       " 'dataset/train/10005_cat.png',\n",
       " 'dataset/train/10006_deer.png',\n",
       " 'dataset/train/10007_frog.png',\n",
       " 'dataset/train/10008_airplane.png']"
      ]
     },
     "execution_count": 34,
     "metadata": {},
     "output_type": "execute_result"
    }
   ],
   "source": [
    "train_image_paths[:10]"
   ]
  },
  {
   "cell_type": "markdown",
   "id": "14faa45b",
   "metadata": {},
   "source": [
    "# load training set vectors"
   ]
  },
  {
   "cell_type": "code",
   "execution_count": 35,
   "id": "796a5626",
   "metadata": {},
   "outputs": [],
   "source": [
    "with open('hamming_train_vectors.pickle','rb') as f:\n",
    "    train_set_vectors = pickle.load(f)"
   ]
  },
  {
   "cell_type": "code",
   "execution_count": 36,
   "id": "22b46487",
   "metadata": {},
   "outputs": [],
   "source": [
    "with open('color_vectors.pickle', 'rb') as f:\n",
    "    color_vectors = pickle.load(f)"
   ]
  },
  {
   "cell_type": "code",
   "execution_count": 37,
   "id": "27ce563a",
   "metadata": {},
   "outputs": [],
   "source": [
    "test_image = 'dataset/test/1052_airplane.png'"
   ]
  },
  {
   "cell_type": "markdown",
   "id": "de2f903b",
   "metadata": {},
   "source": [
    "## Get closest images - ids"
   ]
  },
  {
   "cell_type": "code",
   "execution_count": 38,
   "id": "d9b3e34b",
   "metadata": {},
   "outputs": [],
   "source": [
    "result_ids = simple_inference_with_color_filters(model , \n",
    "                                                 session ,\n",
    "                                                 train_set_vectors, \n",
    "                                                 test_image,\n",
    "                                                 color_vectors,\n",
    "                                                 image_size,\n",
    "                                                 distance = 'hamming')"
   ]
  },
  {
   "cell_type": "markdown",
   "id": "efee5fa1",
   "metadata": {},
   "source": [
    "# show query image"
   ]
  },
  {
   "cell_type": "code",
   "execution_count": 39,
   "id": "13b98b96",
   "metadata": {},
   "outputs": [
    {
     "data": {
      "text/plain": [
       "<matplotlib.image.AxesImage at 0x149eb355940>"
      ]
     },
     "execution_count": 39,
     "metadata": {},
     "output_type": "execute_result"
    },
    {
     "data": {
      "image/png": "[encoded data removed]",
      "text/plain": [
       "<Figure size 432x288 with 1 Axes>"
      ]
     },
     "metadata": {
      "needs_background": "light"
     },
     "output_type": "display_data"
    }
   ],
   "source": [
    "plt.imshow(image_loader(test_image, image_size))"
   ]
  },
  {
   "cell_type": "markdown",
   "id": "57c2a419",
   "metadata": {},
   "source": [
    "# show result images"
   ]
  },
  {
   "cell_type": "code",
   "execution_count": 40,
   "id": "d1f8aec3",
   "metadata": {},
   "outputs": [
    {
     "data": {
      "image/png": "[encoded data removed]",
      "text/plain": [
       "<Figure size 1152x1152 with 14 Axes>"
      ]
     },
     "metadata": {
      "needs_background": "light"
     },
     "output_type": "display_data"
    }
   ],
   "source": [
    "w = 10\n",
    "h = 10\n",
    "fig = plt.figure(figsize = (16,16))\n",
    "colums = 10\n",
    "rows = 5\n",
    "for i in range(1, colums*rows+1):\n",
    "    try:\n",
    "        image = image_loader(train_image_paths[result_ids[i]], image_size)\n",
    "        fig.add_subplot(rows , colums, i)\n",
    "        plt.imshow(image)\n",
    "    except:\n",
    "        pass\n",
    "plt.show()"
   ]
  },
  {
   "cell_type": "code",
   "execution_count": null,
   "id": "9f250099",
   "metadata": {},
   "outputs": [],
   "source": []
  }
 ],
 "metadata": {
  "kernelspec": {
   "display_name": "Python 3",
   "language": "python",
   "name": "python3"
  },
  "language_info": {
   "codemirror_mode": {
    "name": "ipython",
    "version": 3
   },
   "file_extension": ".py",
   "mimetype": "text/x-python",
   "name": "python",
   "nbconvert_exporter": "python",
   "pygments_lexer": "ipython3",
   "version": "3.8.10"
  }
 },
 "nbformat": 4,
 "nbformat_minor": 5
}
